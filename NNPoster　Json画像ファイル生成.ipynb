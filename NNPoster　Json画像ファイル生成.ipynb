{
  "nbformat": 4,
  "nbformat_minor": 0,
  "metadata": {
    "colab": {
      "provenance": [],
      "authorship_tag": "ABX9TyM5B58v5BULCSlBloPqjZ5c",
      "include_colab_link": true
    },
    "kernelspec": {
      "name": "python3",
      "display_name": "Python 3"
    },
    "language_info": {
      "name": "python"
    }
  },
  "cells": [
    {
      "cell_type": "markdown",
      "metadata": {
        "id": "view-in-github",
        "colab_type": "text"
      },
      "source": [
        "<a href=\"https://colab.research.google.com/github/NNLogic/NNPosterPublic/blob/main/NNPoster%E3%80%80Json%E7%94%BB%E5%83%8F%E3%83%95%E3%82%A1%E3%82%A4%E3%83%AB%E7%94%9F%E6%88%90.ipynb\" target=\"_parent\"><img src=\"https://colab.research.google.com/assets/colab-badge.svg\" alt=\"Open In Colab\"/></a>"
      ]
    },
    {
      "cell_type": "markdown",
      "source": [
        "#説明\n",
        "PDF/PNG/JPGからNNPoster用のJSON画像ファイルを作成するスクリプトになります。\n",
        "\n",
        "Betaテスト版です。\n",
        "\n",
        "★上から順番に実行してください。\n",
        "\n",
        "Googleドライブからファイルをコピーする場合、[2-A]を実行後、png/jpgは[2-A1]、pdfは[2-A2]を実行してください。\n",
        "\n",
        "ローカルコンピューターからPDFをアップロードする場合、[2-B]を実行してください。\n",
        "\n",
        "※NNPosterに同梱されているUnityのスクリプトでは、crunch圧縮によりファイルサイズを小さくできます。\n",
        "\n",
        "※スライドを変換する場合、出力画像サイズは1024を推奨しています。\n",
        "\n"
      ],
      "metadata": {
        "id": "UfqyKiNy5l_4"
      }
    },
    {
      "cell_type": "code",
      "source": [
        "#@title [1] 出力画像の横サイズ\n",
        "max_width = '1024' #@param [1024, 2048, 4096] {allow-input: true}"
      ],
      "metadata": {
        "cellView": "form",
        "id": "UqsV63VJ2K0P"
      },
      "execution_count": null,
      "outputs": []
    },
    {
      "cell_type": "markdown",
      "source": [
        "Googleドライブに保存されたフォルダからpngを読み込みます。"
      ],
      "metadata": {
        "id": "J-U54rGg0lrQ"
      }
    },
    {
      "cell_type": "code",
      "source": [
        "#@title [2-A] Googleドライブをマウントする\n",
        "\n",
        "!cd /content\n",
        "%cd  /content\n",
        "\n",
        "import ipywidgets as widgets\n",
        "from google.colab import drive\n",
        "\n",
        "if 'drive' in locals():\n",
        "  drive.flush_and_unmount()\n",
        "\n",
        "drive.mount('/content/drive')"
      ],
      "metadata": {
        "cellView": "form",
        "id": "k8z0K0fJ_Cc7"
      },
      "execution_count": null,
      "outputs": []
    },
    {
      "cell_type": "code",
      "source": [
        "from pkgutil import extend_path\n",
        "#@title [2-A1] Googleドライブのフォルダからpng, jpgをコピーする\n",
        "!cd /content\n",
        "%cd  /content\n",
        "\n",
        "!rm -f *.pdf *.png *.json\n",
        "\n",
        "import os\n",
        "import shutil\n",
        "\n",
        "folder_path = \"/content/drive/MyDrive\" #@param {type:\"string\"}\n",
        "rename = \"on\" #@param [\"on\", \"off\"]\n",
        "#@markdown ※ファイル名の末尾の数字をサムネイル位置にする場合、rename=offにしてください。\n",
        "copy_dest = \"/content\"  # コピー先のディレクトリパスを指定してください\n",
        "\n",
        "os.chdir(folder_path)\n",
        "\n",
        "image_files = [file for file in os.listdir() if file.endswith('.png') or file.endswith('.jpg')]\n",
        "\n",
        "no = 0\n",
        "\n",
        "for file in image_files:\n",
        "    no = no + 1\n",
        "    src_path = os.path.join(folder_path, file)\n",
        "    dest_path = os.path.join(copy_dest, file)\n",
        "    shutil.copy(src_path, dest_path)\n",
        "    if rename == \"on\":\n",
        "      file_name, file_extension = os.path.splitext(dest_path)\n",
        "      new_name = \"image-\"+str(no)+file_extension\n",
        "      os.rename(dest_path, os.path.join(os.path.dirname(dest_path), new_name))\n"
      ],
      "metadata": {
        "id": "ktebIBsny-Ki",
        "cellView": "form"
      },
      "execution_count": null,
      "outputs": []
    },
    {
      "cell_type": "code",
      "source": [
        "#@title [2-A2] GoogleドライブからPDFをコピーする\n",
        "!cd /content\n",
        "%cd  /content\n",
        "\n",
        "!rm -f *.pdf *.png *.json\n",
        "\n",
        "import os\n",
        "import shutil\n",
        "\n",
        "pdf_path = \"/content/drive/MyDrive/NNPoster (3).pdf\" #@param {type:\"string\"}\n",
        "copy_dest = \"/content\"  # コピー先のディレクトリパスを指定してください\n",
        "\n",
        "file_name = os.path.basename(pdf_path)\n",
        "\n",
        "dest_path = os.path.join(copy_dest, file_name)\n",
        "shutil.copy(pdf_path, dest_path)\n",
        "\n",
        "!apt-get install -y poppler-utils\n",
        "!pdftoppm -scale-to $width -png \"$file_name\" image"
      ],
      "metadata": {
        "cellView": "form",
        "id": "lqNScEsOJKJM"
      },
      "execution_count": null,
      "outputs": []
    },
    {
      "cell_type": "code",
      "source": [
        "#@title [2-B] コンピューターに保存されたPDFをアップロードする\n",
        "!cd /content\n",
        "%cd  /content\n",
        "\n",
        "!rm -f *.pdf *.png *.json\n",
        "\n",
        "from google.colab import files\n",
        "import os\n",
        "\n",
        "result = files.upload()\n",
        "pdf_file_name = list(result.keys())[0]\n",
        "base_file_name = os.path.splitext(pdf_file_name)[0]\n",
        "\n",
        "!apt-get install -y poppler-utils\n",
        "\n",
        "!pdftoppm -scale-to $max_width -png \"$pdf_file_name\" image"
      ],
      "metadata": {
        "id": "mGTnW-0xS8lG",
        "cellView": "form"
      },
      "execution_count": null,
      "outputs": []
    },
    {
      "cell_type": "code",
      "execution_count": null,
      "metadata": {
        "id": "QcHPwJuNLaJP",
        "cellView": "form"
      },
      "outputs": [],
      "source": [
        "#@title [3]JSONファイルへの変換\n",
        "!cd /content\n",
        "%cd  /content\n",
        "\n",
        "!sudo apt-get install imagemagick\n",
        "!pip install wand\n",
        "\n",
        "import os, sys\n",
        "from wand.image import Image\n",
        "import datetime\n",
        "import base64\n",
        "import json\n",
        "import re\n",
        "\n",
        "\n",
        "no = 0\n",
        "images = []\n",
        "\n",
        "files = os.listdir(\"./\")\n",
        "sorted_files = sorted(files)\n",
        "for file_name in sorted_files:\n",
        "    if file_name.endswith(\".png\") or file_name.endswith(\".jpg\"):\n",
        "\n",
        "      im = Image(filename=file_name)\n",
        "\n",
        "      if im.width > max_width:\n",
        "        target_width = int(max_width)\n",
        "        original_width = im.width\n",
        "        original_height = im.height\n",
        "\n",
        "        # アスペクト比を維持して変換後の高さを計算\n",
        "        target_height = int(original_height * (target_width / original_width))\n",
        "\n",
        "        # 幅と高さを指定してリサイズ\n",
        "        im.resize(target_width, target_height)\n",
        "\n",
        "      im.flip()\n",
        "\n",
        "      im.convert(\"RGBA\")\n",
        "      im.options['dds:mipmaps'] = \"0\"\n",
        "      im.compression = \"dxt5\"\n",
        "      im.format = 'dds'\n",
        "      binary_data = im.make_blob()\n",
        "      b64_txt = base64.b64encode(binary_data[128:])\n",
        "\n",
        "      type_str = \"10\"  # type DXT1 9 DXT5 10\n",
        "\n",
        "      if im.compression == \"dxt1\":\n",
        "        type_str = \"9\"\n",
        "      match = re.search(r\"\\d+$\", file_name)\n",
        "      if match:\n",
        "        no = int(match.group())\n",
        "      else:\n",
        "        no = no + 1\n",
        "      if no > 200\n",
        "        no = 200\n",
        "      if no < 1\n",
        "        no = 1\n",
        "      image_dict = {\"no\":str(no),\"type\":type_str,\"width\":str(im.width),\"height\":str( im.height),\"base64\":b64_txt.decode('utf-8')};\n",
        "      images.append(image_dict)\n",
        "\n",
        "dict= {\"version\":\"001\",\"images\":images}\n",
        "\n",
        "\n",
        "# output\n",
        "current_datetime = datetime.datetime.now()\n",
        "formatted_datetime = current_datetime.strftime(\"%Y%m%d_%H%M%S\")\n",
        "json_file_name = formatted_datetime + '.json'\n",
        "with open(json_file_name, \"w\") as outputFile:\n",
        "  json.dump(dict, outputFile, indent=2 )\n"
      ]
    },
    {
      "cell_type": "code",
      "source": [
        "#@title [4]ファイルのダウンロード\n",
        "from google.colab import files\n",
        "\n",
        "files.download(json_file_name)"
      ],
      "metadata": {
        "cellView": "form",
        "id": "-jnRUK-_-wdN"
      },
      "execution_count": null,
      "outputs": []
    }
  ]
}