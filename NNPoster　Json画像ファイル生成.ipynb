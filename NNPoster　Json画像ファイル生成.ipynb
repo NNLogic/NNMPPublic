{
  "nbformat": 4,
  "nbformat_minor": 0,
  "metadata": {
    "colab": {
      "provenance": [],
      "authorship_tag": "ABX9TyM5B58v5BULCSlBloPqjZ5c",
      "include_colab_link": true
    },
    "kernelspec": {
      "name": "python3",
      "display_name": "Python 3"
    },
    "language_info": {
      "name": "python"
    }
  },
  "cells": [
    {
      "cell_type": "markdown",
      "metadata": {
        "id": "view-in-github",
        "colab_type": "text"
      },
      "source": [
        "<a href=\"https://colab.research.google.com/github/NNLogic/NNPosterPublic/blob/main/NNPoster%E3%80%80Json%E7%94%BB%E5%83%8F%E3%83%95%E3%82%A1%E3%82%A4%E3%83%AB%E7%94%9F%E6%88%90.ipynb\" target=\"_parent\"><img src=\"https://colab.research.google.com/assets/colab-badge.svg\" alt=\"Open In Colab\"/></a>"
      ]
    },
    {
      "cell_type": "markdown",
      "source": [
        "#説明\n",
        "PDF/PNG/JPGからNNPoster用のJSON画像ファイルを作成するスクリプトになります。\n",
        "\n",
        "Betaテスト版です。\n",
        "\n",
        "★上から順番に実行してください。\n",
        "\n",
        "Googleドライブからファイルをコピーする場合、[2-A]を実行後、png/jpgは[2-A1]、pdfは[2-A2]を実行してください。\n",
        "\n",
        "ローカルコンピューターからPDFをアップロードする場合、[2-B]を実行してください。\n",
        "\n",
        "※NNPosterに同梱されているUnityのスクリプトでは、crunch圧縮によりファイルサイズを小さくできます。\n",
        "\n",
        "※スライドを変換する場合、出力画像サイズは1024を推奨しています。\n",
        "\n"
      ],
      "metadata": {
        "id": "UfqyKiNy5l_4"
      }
    },
    {
      "cell_type": "code",
      "source": [
        "#@title [1] 出力画像の横サイズ\n",
        "max_width = '1024' #@param [1024, 2048, 4096] {allow-input: true}"
      ],
      "metadata": {
        "cellView": "form",
        "id": "UqsV63VJ2K0P"
      },
      "execution_count": null,
      "outputs": []
    },
    {
      "cell_type": "markdown",
      "source": [
        "Googleドライブに保存されたフォルダからpngを読み込みます。"
      ],
      "metadata": {
        "id": "J-U54rGg0lrQ"
      }
    },
    {
      "cell_type": "code",
      "source": [
        "#@title [2-A] Googleドライブをマウントする\n",
        "\n",
        "!cd /content\n",
        "%cd  /content\n",
        "\n",
        "import ipywidgets as widgets\n",
        "from google.colab import drive\n",
        "\n",
        "if 'drive' in locals():\n",
        "  drive.flush_and_unmount()\n",
        "\n",
        "drive.mount('/content/drive')"
      ],
      "metadata": {
        "colab": {
          "base_uri": "https://localhost:8080/"
        },
        "cellView": "form",
        "id": "k8z0K0fJ_Cc7",
        "outputId": "6ed5cc64-1e58-46d2-b8ed-4a863382cd62"
      },
      "execution_count": null,
      "outputs": [
        {
          "output_type": "stream",
          "name": "stdout",
          "text": [
            "/content\n",
            "Mounted at /content/drive\n"
          ]
        }
      ]
    },
    {
      "cell_type": "code",
      "source": [
        "from pkgutil import extend_path\n",
        "#@title [2-A1] Googleドライブのフォルダからpng, jpgをコピーする\n",
        "!cd /content\n",
        "%cd  /content\n",
        "\n",
        "!rm -f *.pdf *.png *.json\n",
        "\n",
        "import os\n",
        "import shutil\n",
        "\n",
        "folder_path = \"/content/drive/MyDrive\" #@param {type:\"string\"}\n",
        "rename = \"on\" #@param [\"on\", \"off\"]\n",
        "#@markdown ※ファイル名の末尾の数字をサムネイル位置にする場合、rename=offにしてください。\n",
        "copy_dest = \"/content\"  # コピー先のディレクトリパスを指定してください\n",
        "\n",
        "os.chdir(folder_path)\n",
        "\n",
        "image_files = [file for file in os.listdir() if file.endswith('.png') or file.endswith('.jpg')]\n",
        "\n",
        "no = 0\n",
        "\n",
        "for file in image_files:\n",
        "    no = no + 1\n",
        "    src_path = os.path.join(folder_path, file)\n",
        "    dest_path = os.path.join(copy_dest, file)\n",
        "    shutil.copy(src_path, dest_path)\n",
        "    if rename == \"on\":\n",
        "      file_name, file_extension = os.path.splitext(dest_path)\n",
        "      new_name = \"image-\"+str(no)+file_extension\n",
        "      os.rename(dest_path, os.path.join(os.path.dirname(dest_path), new_name))\n"
      ],
      "metadata": {
        "id": "ktebIBsny-Ki",
        "colab": {
          "base_uri": "https://localhost:8080/"
        },
        "outputId": "cccaeb8a-2340-43b6-a7f7-c6c62f5b6271"
      },
      "execution_count": null,
      "outputs": [
        {
          "output_type": "stream",
          "name": "stdout",
          "text": [
            "/content\n"
          ]
        }
      ]
    },
    {
      "cell_type": "code",
      "source": [
        "#@title [2-A2] GoogleドライブからPDFをコピーする\n",
        "!cd /content\n",
        "%cd  /content\n",
        "\n",
        "!rm -f *.pdf *.png *.json\n",
        "\n",
        "import os\n",
        "import shutil\n",
        "\n",
        "pdf_path = \"/content/drive/MyDrive/NNPoster (3).pdf\" #@param {type:\"string\"}\n",
        "copy_dest = \"/content\"  # コピー先のディレクトリパスを指定してください\n",
        "\n",
        "file_name = os.path.basename(pdf_path)\n",
        "\n",
        "dest_path = os.path.join(copy_dest, file_name)\n",
        "shutil.copy(pdf_path, dest_path)\n",
        "\n",
        "!apt-get install -y poppler-utils\n",
        "!pdftoppm -scale-to $width -png \"$file_name\" image"
      ],
      "metadata": {
        "colab": {
          "base_uri": "https://localhost:8080/"
        },
        "cellView": "form",
        "id": "lqNScEsOJKJM",
        "outputId": "644f649f-549b-44b3-ec51-d9802fd8a815"
      },
      "execution_count": null,
      "outputs": [
        {
          "output_type": "stream",
          "name": "stdout",
          "text": [
            "/content\n",
            "Reading package lists... Done\n",
            "Building dependency tree... Done\n",
            "Reading state information... Done\n",
            "poppler-utils is already the newest version (22.02.0-2ubuntu0.1).\n",
            "0 upgraded, 0 newly installed, 0 to remove and 8 not upgraded.\n"
          ]
        }
      ]
    },
    {
      "cell_type": "code",
      "source": [
        "#@title [2-B] コンピューターに保存されたPDFをアップロードする\n",
        "!cd /content\n",
        "%cd  /content\n",
        "\n",
        "!rm -f *.pdf *.png *.json\n",
        "\n",
        "from google.colab import files\n",
        "import os\n",
        "\n",
        "result = files.upload()\n",
        "pdf_file_name = list(result.keys())[0]\n",
        "base_file_name = os.path.splitext(pdf_file_name)[0]\n",
        "\n",
        "!apt-get install -y poppler-utils\n",
        "\n",
        "!pdftoppm -scale-to $max_width -png \"$pdf_file_name\" image"
      ],
      "metadata": {
        "colab": {
          "base_uri": "https://localhost:8080/",
          "height": 187
        },
        "id": "mGTnW-0xS8lG",
        "outputId": "c7ef2a49-9f34-4db4-b8bf-b4dc282b9968",
        "cellView": "form"
      },
      "execution_count": null,
      "outputs": [
        {
          "output_type": "stream",
          "name": "stdout",
          "text": [
            "/content\n"
          ]
        },
        {
          "output_type": "display_data",
          "data": {
            "text/plain": [
              "<IPython.core.display.HTML object>"
            ],
            "text/html": [
              "\n",
              "     <input type=\"file\" id=\"files-646e10fa-5e93-4426-b4b5-0c737a9e90c9\" name=\"files[]\" multiple disabled\n",
              "        style=\"border:none\" />\n",
              "     <output id=\"result-646e10fa-5e93-4426-b4b5-0c737a9e90c9\">\n",
              "      Upload widget is only available when the cell has been executed in the\n",
              "      current browser session. Please rerun this cell to enable.\n",
              "      </output>\n",
              "      <script>// Copyright 2017 Google LLC\n",
              "//\n",
              "// Licensed under the Apache License, Version 2.0 (the \"License\");\n",
              "// you may not use this file except in compliance with the License.\n",
              "// You may obtain a copy of the License at\n",
              "//\n",
              "//      http://www.apache.org/licenses/LICENSE-2.0\n",
              "//\n",
              "// Unless required by applicable law or agreed to in writing, software\n",
              "// distributed under the License is distributed on an \"AS IS\" BASIS,\n",
              "// WITHOUT WARRANTIES OR CONDITIONS OF ANY KIND, either express or implied.\n",
              "// See the License for the specific language governing permissions and\n",
              "// limitations under the License.\n",
              "\n",
              "/**\n",
              " * @fileoverview Helpers for google.colab Python module.\n",
              " */\n",
              "(function(scope) {\n",
              "function span(text, styleAttributes = {}) {\n",
              "  const element = document.createElement('span');\n",
              "  element.textContent = text;\n",
              "  for (const key of Object.keys(styleAttributes)) {\n",
              "    element.style[key] = styleAttributes[key];\n",
              "  }\n",
              "  return element;\n",
              "}\n",
              "\n",
              "// Max number of bytes which will be uploaded at a time.\n",
              "const MAX_PAYLOAD_SIZE = 100 * 1024;\n",
              "\n",
              "function _uploadFiles(inputId, outputId) {\n",
              "  const steps = uploadFilesStep(inputId, outputId);\n",
              "  const outputElement = document.getElementById(outputId);\n",
              "  // Cache steps on the outputElement to make it available for the next call\n",
              "  // to uploadFilesContinue from Python.\n",
              "  outputElement.steps = steps;\n",
              "\n",
              "  return _uploadFilesContinue(outputId);\n",
              "}\n",
              "\n",
              "// This is roughly an async generator (not supported in the browser yet),\n",
              "// where there are multiple asynchronous steps and the Python side is going\n",
              "// to poll for completion of each step.\n",
              "// This uses a Promise to block the python side on completion of each step,\n",
              "// then passes the result of the previous step as the input to the next step.\n",
              "function _uploadFilesContinue(outputId) {\n",
              "  const outputElement = document.getElementById(outputId);\n",
              "  const steps = outputElement.steps;\n",
              "\n",
              "  const next = steps.next(outputElement.lastPromiseValue);\n",
              "  return Promise.resolve(next.value.promise).then((value) => {\n",
              "    // Cache the last promise value to make it available to the next\n",
              "    // step of the generator.\n",
              "    outputElement.lastPromiseValue = value;\n",
              "    return next.value.response;\n",
              "  });\n",
              "}\n",
              "\n",
              "/**\n",
              " * Generator function which is called between each async step of the upload\n",
              " * process.\n",
              " * @param {string} inputId Element ID of the input file picker element.\n",
              " * @param {string} outputId Element ID of the output display.\n",
              " * @return {!Iterable<!Object>} Iterable of next steps.\n",
              " */\n",
              "function* uploadFilesStep(inputId, outputId) {\n",
              "  const inputElement = document.getElementById(inputId);\n",
              "  inputElement.disabled = false;\n",
              "\n",
              "  const outputElement = document.getElementById(outputId);\n",
              "  outputElement.innerHTML = '';\n",
              "\n",
              "  const pickedPromise = new Promise((resolve) => {\n",
              "    inputElement.addEventListener('change', (e) => {\n",
              "      resolve(e.target.files);\n",
              "    });\n",
              "  });\n",
              "\n",
              "  const cancel = document.createElement('button');\n",
              "  inputElement.parentElement.appendChild(cancel);\n",
              "  cancel.textContent = 'Cancel upload';\n",
              "  const cancelPromise = new Promise((resolve) => {\n",
              "    cancel.onclick = () => {\n",
              "      resolve(null);\n",
              "    };\n",
              "  });\n",
              "\n",
              "  // Wait for the user to pick the files.\n",
              "  const files = yield {\n",
              "    promise: Promise.race([pickedPromise, cancelPromise]),\n",
              "    response: {\n",
              "      action: 'starting',\n",
              "    }\n",
              "  };\n",
              "\n",
              "  cancel.remove();\n",
              "\n",
              "  // Disable the input element since further picks are not allowed.\n",
              "  inputElement.disabled = true;\n",
              "\n",
              "  if (!files) {\n",
              "    return {\n",
              "      response: {\n",
              "        action: 'complete',\n",
              "      }\n",
              "    };\n",
              "  }\n",
              "\n",
              "  for (const file of files) {\n",
              "    const li = document.createElement('li');\n",
              "    li.append(span(file.name, {fontWeight: 'bold'}));\n",
              "    li.append(span(\n",
              "        `(${file.type || 'n/a'}) - ${file.size} bytes, ` +\n",
              "        `last modified: ${\n",
              "            file.lastModifiedDate ? file.lastModifiedDate.toLocaleDateString() :\n",
              "                                    'n/a'} - `));\n",
              "    const percent = span('0% done');\n",
              "    li.appendChild(percent);\n",
              "\n",
              "    outputElement.appendChild(li);\n",
              "\n",
              "    const fileDataPromise = new Promise((resolve) => {\n",
              "      const reader = new FileReader();\n",
              "      reader.onload = (e) => {\n",
              "        resolve(e.target.result);\n",
              "      };\n",
              "      reader.readAsArrayBuffer(file);\n",
              "    });\n",
              "    // Wait for the data to be ready.\n",
              "    let fileData = yield {\n",
              "      promise: fileDataPromise,\n",
              "      response: {\n",
              "        action: 'continue',\n",
              "      }\n",
              "    };\n",
              "\n",
              "    // Use a chunked sending to avoid message size limits. See b/62115660.\n",
              "    let position = 0;\n",
              "    do {\n",
              "      const length = Math.min(fileData.byteLength - position, MAX_PAYLOAD_SIZE);\n",
              "      const chunk = new Uint8Array(fileData, position, length);\n",
              "      position += length;\n",
              "\n",
              "      const base64 = btoa(String.fromCharCode.apply(null, chunk));\n",
              "      yield {\n",
              "        response: {\n",
              "          action: 'append',\n",
              "          file: file.name,\n",
              "          data: base64,\n",
              "        },\n",
              "      };\n",
              "\n",
              "      let percentDone = fileData.byteLength === 0 ?\n",
              "          100 :\n",
              "          Math.round((position / fileData.byteLength) * 100);\n",
              "      percent.textContent = `${percentDone}% done`;\n",
              "\n",
              "    } while (position < fileData.byteLength);\n",
              "  }\n",
              "\n",
              "  // All done.\n",
              "  yield {\n",
              "    response: {\n",
              "      action: 'complete',\n",
              "    }\n",
              "  };\n",
              "}\n",
              "\n",
              "scope.google = scope.google || {};\n",
              "scope.google.colab = scope.google.colab || {};\n",
              "scope.google.colab._files = {\n",
              "  _uploadFiles,\n",
              "  _uploadFilesContinue,\n",
              "};\n",
              "})(self);\n",
              "</script> "
            ]
          },
          "metadata": {}
        },
        {
          "output_type": "stream",
          "name": "stdout",
          "text": [
            "Saving NNPoster (3).pdf to NNPoster (3).pdf\n",
            "Reading package lists... Done\n",
            "Building dependency tree... Done\n",
            "Reading state information... Done\n",
            "poppler-utils is already the newest version (22.02.0-2ubuntu0.1).\n",
            "0 upgraded, 0 newly installed, 0 to remove and 8 not upgraded.\n"
          ]
        }
      ]
    },
    {
      "cell_type": "code",
      "execution_count": null,
      "metadata": {
        "colab": {
          "base_uri": "https://localhost:8080/"
        },
        "id": "QcHPwJuNLaJP",
        "outputId": "a754164b-fcca-4776-ada9-0b8320c3543e"
      },
      "outputs": [
        {
          "output_type": "stream",
          "name": "stdout",
          "text": [
            "/content\n",
            "Reading package lists... Done\n",
            "Building dependency tree... Done\n",
            "Reading state information... Done\n",
            "imagemagick is already the newest version (8:6.9.11.60+dfsg-1.3ubuntu0.22.04.3).\n",
            "0 upgraded, 0 newly installed, 0 to remove and 8 not upgraded.\n",
            "Requirement already satisfied: wand in /usr/local/lib/python3.10/dist-packages (0.6.11)\n"
          ]
        }
      ],
      "source": [
        "#@title [3]JSONファイルへの変換\n",
        "!cd /content\n",
        "%cd  /content\n",
        "\n",
        "!sudo apt-get install imagemagick\n",
        "!pip install wand\n",
        "\n",
        "import os, sys\n",
        "from wand.image import Image\n",
        "import datetime\n",
        "import base64\n",
        "import json\n",
        "import re\n",
        "\n",
        "\n",
        "no = 0\n",
        "images = []\n",
        "\n",
        "files = os.listdir(\"./\")\n",
        "sorted_files = sorted(files)\n",
        "for file_name in sorted_files:\n",
        "    if file_name.endswith(\".png\") or file_name.endswith(\".jpg\"):\n",
        "\n",
        "      im = Image(filename=file_name)\n",
        "\n",
        "      if im.width > max_width:\n",
        "        target_width = int(max_width)\n",
        "        original_width = im.width\n",
        "        original_height = im.height\n",
        "\n",
        "        # アスペクト比を維持して変換後の高さを計算\n",
        "        target_height = int(original_height * (target_width / original_width))\n",
        "\n",
        "        # 幅と高さを指定してリサイズ\n",
        "        im.resize(target_width, target_height)\n",
        "\n",
        "      im.flip()\n",
        "\n",
        "      im.convert(\"RGBA\")\n",
        "      im.options['dds:mipmaps'] = \"0\"\n",
        "      im.compression = \"dxt5\"\n",
        "      im.format = 'dds'\n",
        "      binary_data = im.make_blob()\n",
        "      b64_txt = base64.b64encode(binary_data[128:])\n",
        "\n",
        "      type_str = \"10\"  # type DXT1 9 DXT5 10\n",
        "\n",
        "      if im.compression == \"dxt1\":\n",
        "        type_str = \"9\"\n",
        "      match = re.search(r\"\\d+$\", file_name)\n",
        "      if match:\n",
        "        no = int(match.group())\n",
        "      else:\n",
        "        no = no + 1\n",
        "      if no > 200\n",
        "        no = 200\n",
        "      if no < 1\n",
        "        no = 1\n",
        "      image_dict = {\"no\":str(no),\"type\":type_str,\"width\":str(im.width),\"height\":str( im.height),\"base64\":b64_txt.decode('utf-8')};\n",
        "      images.append(image_dict)\n",
        "\n",
        "dict= {\"version\":\"001\",\"images\":images}\n",
        "\n",
        "\n",
        "# output\n",
        "current_datetime = datetime.datetime.now()\n",
        "formatted_datetime = current_datetime.strftime(\"%Y%m%d_%H%M%S\")\n",
        "json_file_name = formatted_datetime + '.json'\n",
        "with open(json_file_name, \"w\") as outputFile:\n",
        "  json.dump(dict, outputFile, indent=2 )\n"
      ]
    },
    {
      "cell_type": "code",
      "source": [
        "#@title [4]ファイルのダウンロード\n",
        "from google.colab import files\n",
        "\n",
        "files.download(json_file_name)"
      ],
      "metadata": {
        "colab": {
          "base_uri": "https://localhost:8080/",
          "height": 17
        },
        "cellView": "form",
        "id": "-jnRUK-_-wdN",
        "outputId": "20ceacbc-b3c6-4326-a1b4-4212ab8fdef5"
      },
      "execution_count": null,
      "outputs": [
        {
          "output_type": "display_data",
          "data": {
            "text/plain": [
              "<IPython.core.display.Javascript object>"
            ],
            "application/javascript": [
              "\n",
              "    async function download(id, filename, size) {\n",
              "      if (!google.colab.kernel.accessAllowed) {\n",
              "        return;\n",
              "      }\n",
              "      const div = document.createElement('div');\n",
              "      const label = document.createElement('label');\n",
              "      label.textContent = `Downloading \"${filename}\": `;\n",
              "      div.appendChild(label);\n",
              "      const progress = document.createElement('progress');\n",
              "      progress.max = size;\n",
              "      div.appendChild(progress);\n",
              "      document.body.appendChild(div);\n",
              "\n",
              "      const buffers = [];\n",
              "      let downloaded = 0;\n",
              "\n",
              "      const channel = await google.colab.kernel.comms.open(id);\n",
              "      // Send a message to notify the kernel that we're ready.\n",
              "      channel.send({})\n",
              "\n",
              "      for await (const message of channel.messages) {\n",
              "        // Send a message to notify the kernel that we're ready.\n",
              "        channel.send({})\n",
              "        if (message.buffers) {\n",
              "          for (const buffer of message.buffers) {\n",
              "            buffers.push(buffer);\n",
              "            downloaded += buffer.byteLength;\n",
              "            progress.value = downloaded;\n",
              "          }\n",
              "        }\n",
              "      }\n",
              "      const blob = new Blob(buffers, {type: 'application/binary'});\n",
              "      const a = document.createElement('a');\n",
              "      a.href = window.URL.createObjectURL(blob);\n",
              "      a.download = filename;\n",
              "      div.appendChild(a);\n",
              "      a.click();\n",
              "      div.remove();\n",
              "    }\n",
              "  "
            ]
          },
          "metadata": {}
        },
        {
          "output_type": "display_data",
          "data": {
            "text/plain": [
              "<IPython.core.display.Javascript object>"
            ],
            "application/javascript": [
              "download(\"download_effbfd93-5ded-4f29-9cd7-767535469a78\", \"20230721_014403.json\", 393371)"
            ]
          },
          "metadata": {}
        }
      ]
    }
  ]
}