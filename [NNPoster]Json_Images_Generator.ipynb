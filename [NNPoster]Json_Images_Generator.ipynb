{
  "nbformat": 4,
  "nbformat_minor": 0,
  "metadata": {
    "colab": {
      "provenance": [],
      "collapsed_sections": [
        "L23nbvFx3M8g",
        "Su2KyPjL3R6O"
      ],
      "authorship_tag": "ABX9TyPemi81oluvsXvFpqx3oDnA",
      "include_colab_link": true
    },
    "kernelspec": {
      "name": "python3",
      "display_name": "Python 3"
    },
    "language_info": {
      "name": "python"
    }
  },
  "cells": [
    {
      "cell_type": "markdown",
      "metadata": {
        "id": "view-in-github",
        "colab_type": "text"
      },
      "source": [
        "<a href=\"https://colab.research.google.com/github/NNLogic/NNPosterPublic/blob/main/%5BNNPoster%5DJson_Images_Generator.ipynb\" target=\"_parent\"><img src=\"https://colab.research.google.com/assets/colab-badge.svg\" alt=\"Open In Colab\"/></a>"
      ]
    },
    {
      "cell_type": "markdown",
      "source": [
        "#説明 Description\n",
        "PDF/PNG/JPGからNNPoster用のJSON画像ファイルを作成するスクリプトになります。\n",
        "\n",
        "Betaテスト版です。\n",
        "\n",
        "★[1]→[2]→[3]→[4]の順番に実行してください。\n",
        "\n",
        "\n",
        "※NNPosterに同梱されているUnityのスクリプトでは、crunch圧縮によりファイルサイズを小さくできます。\n",
        "\n",
        "※スライドを変換する場合、max_widthは1024を推奨しています。\n",
        "\n",
        "\n",
        "The script to create a JSON image file for NNPoster from PDF/PNG/JPG:\n",
        "\n",
        "\"This is a beta test version.\n",
        "\n",
        "★Please execute the steps in the following order: [1] → [2] → [3] → [4].\n",
        "\n",
        "※The Unity script included in NNPoster allows for file size reduction through crunch compression.\n",
        "\n",
        "※When converting slides, we recommend using a max_width of 1024.\""
      ],
      "metadata": {
        "id": "UfqyKiNy5l_4"
      }
    },
    {
      "cell_type": "code",
      "source": [
        "# @title #[1] 変換設定 / Settings\n",
        "rename = \"on\" #@param [\"on\", \"off\"]\n",
        "#@markdown ※ファイル名を表示する場合、末尾の数字をサムネイル位置にする場合、rename=offにしてください。\n",
        "#@markdown\n",
        "#@markdown If you want to display the file name with the thumbnail position at the end, please set \"rename=off.\"\n",
        "\n",
        "max_width = '1024' #@param [1024, 2048, 4096, 8192] {allow-input: true}"
      ],
      "metadata": {
        "id": "UqsV63VJ2K0P",
        "cellView": "form"
      },
      "execution_count": null,
      "outputs": []
    },
    {
      "cell_type": "markdown",
      "source": [
        "#[2] ファイルのロード Loading Files\n",
        "\n",
        "[2]は次の読込方法により一つだけ実行してください。\n",
        "\n",
        "・Googleドライブからファイルをコピーする場合\n",
        "\n",
        "　→　[2-A]を実行後、PNG/JPGは[2-A1]、pdfは[2-A2]を実行してください。\n",
        "\n",
        "・ローカルコンピューターからPNG/JPGをアップロードする場合\n",
        "\n",
        "　→　[2-B1]を実行してください。\n",
        "\n",
        "・ローカルコンピューターからPDFをアップロードする場合\n",
        "\n",
        "　→　[2-B2]を実行してください。\n",
        "\n",
        "Choose only one method from the following for [2] based on the loading method.\n",
        "\n",
        "・If you are copying files from Google Drive:\n",
        "\n",
        "　→　Execute [2-A] first, then [2-A1] for PNG/JPG or [2-A2] for PDF.\n",
        "\n",
        "・If you are uploading PNG and JPG from your local computer:\n",
        "\n",
        "　→　Execute [2-B1].\n",
        "\n",
        "・If you are uploading a PDF from your local computer:\n",
        "\n",
        "　→　Execute [2-B2]."
      ],
      "metadata": {
        "id": "2oDXa6Wq2uZf"
      }
    },
    {
      "cell_type": "code",
      "source": [
        "#@title [2-A] Googleドライブをマウントする　Mounting Google Drive\n",
        "%cd  /content\n",
        "\n",
        "import ipywidgets as widgets\n",
        "from google.colab import drive\n",
        "\n",
        "if 'drive' in locals():\n",
        "  drive.flush_and_unmount()\n",
        "\n",
        "drive.mount('/content/drive')"
      ],
      "metadata": {
        "cellView": "form",
        "id": "k8z0K0fJ_Cc7"
      },
      "execution_count": null,
      "outputs": []
    },
    {
      "cell_type": "code",
      "source": [
        "#@title [2-A1] Googleドライブのフォルダからpng, jpgをコピーする　Copying PNG and JPG files from Google Drive folder\n",
        "%cd  /content\n",
        "\n",
        "if 'rename' not in locals():\n",
        "    rename = \"on\"\n",
        "\n",
        "from pkgutil import extend_path\n",
        "import os\n",
        "import shutil\n",
        "\n",
        "!rm -f *.pdf *.png *.json\n",
        "\n",
        "folder_path = \"/content/drive/MyDrive\" #@param {type:\"string\"}\n",
        "\n",
        "copy_dest = \"/content\"  # コピー先のディレクトリパスを指定してください\n",
        "os.chdir(folder_path)\n",
        "image_files = [file for file in os.listdir() if file.endswith('.png') or file.endswith('.jpg')]\n",
        "\n",
        "no = 0\n",
        "for file in image_files:\n",
        "    no = no + 1\n",
        "    src_path = os.path.join(folder_path, file)\n",
        "    dest_path = os.path.join(copy_dest, file)\n",
        "    shutil.copy(src_path, dest_path)\n",
        "    if rename == \"on\":\n",
        "      file_name, file_extension = os.path.splitext(dest_path)\n",
        "      new_name = \"image-\"+str(no)+file_extension\n",
        "      os.rename(dest_path, os.path.join(os.path.dirname(dest_path), new_name))"
      ],
      "metadata": {
        "id": "ktebIBsny-Ki",
        "cellView": "form"
      },
      "execution_count": null,
      "outputs": []
    },
    {
      "cell_type": "code",
      "source": [
        "#@title [2-A2] GoogleドライブからPDFをコピーする　Copying PDF from Google Drive\n",
        "%cd  /content\n",
        "\n",
        "if 'rename' not in locals():\n",
        "    rename = \"on\"\n",
        "\n",
        "if 'max_width' not in locals():\n",
        "    max_width = 1024\n",
        "\n",
        "import os\n",
        "import shutil\n",
        "\n",
        "!rm -f *.pdf *.png *.json\n",
        "\n",
        "pdf_path = \"/content/drive/MyDrive\" #@param {type:\"string\"}\n",
        "copy_dest = \"/content\"  # コピー先のディレクトリパスを指定してください\n",
        "\n",
        "file_name = os.path.basename(pdf_path)\n",
        "base_file_name = os.path.splitext(file_name)[0]\n",
        "\n",
        "dest_path = os.path.join(copy_dest, file_name)\n",
        "shutil.copy(pdf_path, dest_path)\n",
        "\n",
        "!apt-get install -y poppler-utils\n",
        "\n",
        "if rename == \"on\":\n",
        "  !pdftoppm -scale-to $max_width -png \"$file_name\" image\n",
        "else\n",
        "  !pdftoppm -scale-to $max_width -png \"$file_name\" \"$base_file_name\"\n"
      ],
      "metadata": {
        "cellView": "form",
        "id": "lqNScEsOJKJM"
      },
      "execution_count": null,
      "outputs": []
    },
    {
      "cell_type": "code",
      "source": [
        "#@title [2-B1]  png/jpgをアップロードする　Uploading png/jpg\n",
        "!cd /content\n",
        "%cd  /content\n",
        "\n",
        "if 'rename' not in locals():\n",
        "    rename = \"on\"\n",
        "\n",
        "!rm -f *.pdf *.png *.json\n",
        "\n",
        "from google.colab import files\n",
        "import os\n",
        "\n",
        "image_files = files.upload()\n",
        "sorted_files = sorted(image_files)\n",
        "\n",
        "no = 0\n",
        "for file in sorted_files:\n",
        "   if file.endswith(\".png\") or file.endswith(\".jpg\"):\n",
        "      no = no + 1\n",
        "      if rename == \"on\":\n",
        "        file_name, file_extension = os.path.splitext(file)\n",
        "        new_name = \"image-\"+str(no)+file_extension\n",
        "        os.rename(file, os.path.join(os.path.dirname(file), new_name))"
      ],
      "metadata": {
        "cellView": "form",
        "id": "KBJV3WRh-dY4"
      },
      "execution_count": null,
      "outputs": []
    },
    {
      "cell_type": "code",
      "source": [
        "#@title [2-B2] PDFをアップロードする　Uploading a PDF\n",
        "\n",
        "!cd /content\n",
        "%cd  /content\n",
        "\n",
        "if 'rename' not in locals():\n",
        "    rename = \"on\"\n",
        "\n",
        "if 'max_width' not in locals():\n",
        "    max_width = 1024\n",
        "\n",
        "!rm -f *.pdf *.png *.json\n",
        "\n",
        "from google.colab import files\n",
        "import os\n",
        "\n",
        "result = files.upload()\n",
        "pdf_file_name = list(result.keys())[0]\n",
        "base_file_name = os.path.splitext(pdf_file_name)[0]\n",
        "\n",
        "!apt-get install -y poppler-utils\n",
        "\n",
        "if rename == \"on\":\n",
        "  !pdftoppm -scale-to $max_width -png \"$pdf_file_name\" image\n",
        "else\n",
        "  !pdftoppm -scale-to $max_width -png \"$pdf_file_name\" \"$base_file_name\""
      ],
      "metadata": {
        "id": "mGTnW-0xS8lG",
        "cellView": "form"
      },
      "execution_count": null,
      "outputs": []
    },
    {
      "cell_type": "markdown",
      "source": [
        "#[3]JSONファイルへの変換 Converting to JSON file"
      ],
      "metadata": {
        "id": "L23nbvFx3M8g"
      }
    },
    {
      "cell_type": "code",
      "execution_count": null,
      "metadata": {
        "id": "QcHPwJuNLaJP",
        "cellView": "form"
      },
      "outputs": [],
      "source": [
        "#@title [3]JSONファイルへの変換 Converting to JSON file\n",
        "%cd  /content\n",
        "\n",
        "!sudo apt-get install imagemagick\n",
        "!pip install wand\n",
        "\n",
        "import os, sys\n",
        "from wand.image import Image\n",
        "import datetime\n",
        "import base64\n",
        "import json\n",
        "import re\n",
        "\n",
        "if 'max_width' not in locals():\n",
        "    max_width = 1024\n",
        "\n",
        "if 'rename' not in locals():\n",
        "    rename = \"on\"\n",
        "\n",
        "no = 0\n",
        "images = []\n",
        "files = os.listdir(\"./\")\n",
        "sorted_files = sorted(files)\n",
        "for file_name in sorted_files:\n",
        "    if file_name.endswith(\".png\") or file_name.endswith(\".jpg\"):\n",
        "      im = Image(filename=file_name)\n",
        "\n",
        "      if im.width > int(max_width):\n",
        "        target_width = int(max_width)\n",
        "        target_height = int(im.height * (target_width / im.width))\n",
        "        im.resize(target_width, target_height)\n",
        "\n",
        "      im.flip()\n",
        "      im.convert(\"RGBA\")\n",
        "      im.options['dds:mipmaps'] = \"0\"\n",
        "      im.compression = \"dxt5\"\n",
        "      im.format = 'dds'\n",
        "      b64_txt = base64.b64encode(im.make_blob()[128:])\n",
        "\n",
        "      type_str = \"9\" if im.compression == \"dxt1\" else \"10\" # type DXT1 9 DXT5 10\n",
        "\n",
        "      match = re.search(r\"\\d+$\", file_name)\n",
        "      no = int(match.group()) if match else no + 1\n",
        "      no = 200 if no > 200 else 1 if no < 1 else no\n",
        "\n",
        "      image_dict = {\"no\":str(no),\"name\":os.path.splitext(file_name)[0],\"type\":type_str,\"width\":str(im.width),\"height\":str( im.height),\"base64\":b64_txt.decode('utf-8')};\n",
        "      images.append(image_dict)\n",
        "\n",
        "dict= {\"version\":\"001\",\"specified_index\":\"true\" if rename == \"off\" else \"false\",\"images\":images}\n",
        "\n",
        "# output\n",
        "current_datetime = datetime.datetime.now()\n",
        "formatted_datetime = current_datetime.strftime(\"%Y%m%d_%H%M%S\")\n",
        "json_file_name = formatted_datetime + '.json'\n",
        "with open(json_file_name, \"w\") as outputFile:\n",
        "  json.dump(dict, outputFile, indent=2 )"
      ]
    },
    {
      "cell_type": "markdown",
      "source": [
        "#[4]ファイルのダウンロード Downloading the file"
      ],
      "metadata": {
        "id": "Su2KyPjL3R6O"
      }
    },
    {
      "cell_type": "code",
      "source": [
        "#@title [4]ファイルのダウンロード Downloading the file\n",
        "from google.colab import files\n",
        "\n",
        "files.download(json_file_name)"
      ],
      "metadata": {
        "cellView": "form",
        "id": "-jnRUK-_-wdN"
      },
      "execution_count": null,
      "outputs": []
    }
  ]
}