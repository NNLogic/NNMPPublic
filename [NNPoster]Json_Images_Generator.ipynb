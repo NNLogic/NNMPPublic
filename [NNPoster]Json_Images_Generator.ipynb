{
  "nbformat": 4,
  "nbformat_minor": 0,
  "metadata": {
    "colab": {
      "provenance": [],
      "private_outputs": true,
      "gpuType": "T4",
      "authorship_tag": "ABX9TyNzIXdoUxQIExnvNMet0L3s",
      "include_colab_link": true
    },
    "kernelspec": {
      "name": "python3",
      "display_name": "Python 3"
    },
    "language_info": {
      "name": "python"
    }
  },
  "cells": [
    {
      "cell_type": "markdown",
      "metadata": {
        "id": "view-in-github",
        "colab_type": "text"
      },
      "source": [
        "<a href=\"https://colab.research.google.com/github/NNLogic/NNPosterPublic/blob/main/%5BNNPoster%5DJson_Images_Generator.ipynb\" target=\"_parent\"><img src=\"https://colab.research.google.com/assets/colab-badge.svg\" alt=\"Open In Colab\"/></a>"
      ]
    },
    {
      "cell_type": "markdown",
      "source": [
        "#説明 / Description\n",
        "PDF/PNG/JPGからNNPoster用のJSON画像ファイルを作成するスクリプトになります。\n",
        "\n",
        "Betaテスト版です。\n",
        "\n",
        "★[1]→[2]→[3]の順番に実行してください。\n",
        "\n",
        "※NNPosterに同梱されているUnityのスクリプトでは、crunch圧縮によりファイルサイズを小さくできます。\n",
        "\n",
        "The script to create a JSON image file for NNPoster from PDF/PNG/JPG:\n",
        "\n",
        "\"This is a beta test version.\n",
        "\n",
        "★Please execute the steps in the following order: [1] → [2] → [3].\n",
        "\n",
        "※The Unity script included in NNPoster allows for file size reduction through crunch compression."
      ],
      "metadata": {
        "id": "UfqyKiNy5l_4"
      }
    },
    {
      "cell_type": "code",
      "source": [
        "# @title #変換設定 / Settings\n",
        "#@markdown ↓ファイル名を表示する場合、未入力にしてください。/  If you want to display the file name, please leave it blank.\n",
        "rename = \"\" #@param {type:\"string\"}\n",
        "#@markdown ↓ファイル名の末尾番号をJsonの画像位置にする場合、\"off\"にしてください。/  If you want to use the file name's trailing number for the image position in the Json, set \"off\".\n",
        "renumber = \"on\" #@param [\"on\", \"off\"]\n",
        "#@markdown ↓スライドを変換する場合、max_widthは1024を推奨しています。/ When converting slides, we recommend using a max_width of 1024.\"\n",
        "max_width = '2048' #@param [\"1024\", \"2048\", \"4096\", \"8192\", \"Unlimited\"]\n"
      ],
      "metadata": {
        "id": "UqsV63VJ2K0P",
        "cellView": "form"
      },
      "execution_count": null,
      "outputs": []
    },
    {
      "cell_type": "markdown",
      "source": [
        "#変換 / Convert\n",
        "\n",
        "・Googleドライブからファイルをコピーする場合は、[0]を事前に実行してください。/ To copy a file from Google Drive, please execute [0] beforehand.\n",
        "\n",
        "\n",
        "※ファイルサイズが大きい場合、Googleドライブから変換することを推奨します。/ If the file size is large, it is recommended to convert it from Google Drive."
      ],
      "metadata": {
        "id": "2oDXa6Wq2uZf"
      }
    },
    {
      "cell_type": "code",
      "source": [
        "#@title [0] Googleドライブをマウントする / Mounting Google Drive\n",
        "%cd  /content\n",
        "\n",
        "import ipywidgets as widgets\n",
        "from google.colab import drive\n",
        "\n",
        "if 'drive' in locals():\n",
        "  drive.flush_and_unmount()\n",
        "\n",
        "drive.mount('/content/drive')"
      ],
      "metadata": {
        "cellView": "form",
        "id": "k8z0K0fJ_Cc7"
      },
      "execution_count": null,
      "outputs": []
    },
    {
      "cell_type": "code",
      "source": [
        "#@title [1]　ファイルを読込 / Loading files\n",
        "%cd  /content\n",
        "\n",
        "load_type = \"PDF\" #@param [\"PDF\", \"PNG, JPG\"]\n",
        "load_from = \"Local Computer\" #@param [\"Google Drive\", \"Local Computer\"]\n",
        "\n",
        "#@markdown ↓Google Driveの場合、指定してください。/ In the case of Google Drive, please specify.\n",
        "#@markdown 　PDFはファイルパス、PNG/JPGはフォルダパス / For PDF files, provide the file path, and for PNG/JPG files, provide the folder path.\n",
        "load_path = \"/content/drive/MyDrive/\" #@param {type:\"string\"}\n",
        "\n",
        "if 'rename' not in locals():\n",
        "    rename = \"Image\"\n",
        "if 'max_width' not in locals():\n",
        "    max_width = 1024\n",
        "\n",
        "from pkgutil import extend_path\n",
        "from google.colab import files\n",
        "import os\n",
        "import shutil\n",
        "\n",
        "!rm -f *.pdf *.png *.jpg *.json\n",
        "\n",
        "def get_last_folder_path(load_path):\n",
        "    load_path = load_path.rstrip(os.path.sep)\n",
        "    dir_path, folder_name = os.path.split(load_path)\n",
        "    return os.path.basename(folder_name)\n",
        "\n",
        "if load_type ==  \"PNG, JPG\":\n",
        "  image_files = []\n",
        "  if load_from == \"Local Computer\":\n",
        "    upload_files = files.upload()\n",
        "    image_files = [file for file in upload_files if file.endswith('.png') or file.endswith('.jpg')]\n",
        "\n",
        "  if load_from == \"Google Drive\":\n",
        "    if not os.path.exists(load_path):\n",
        "      print(\"Error:load_path is invalid\")\n",
        "      raise SystemExit\n",
        "    copy_dest = \"/content\"\n",
        "    os.chdir(load_path)\n",
        "    output_file_name =  get_last_folder_path(load_path)\n",
        "\n",
        "    image_files = [file for file in os.listdir() if file.endswith('.png') or file.endswith('.jpg')]\n",
        "    no=0\n",
        "    for file in image_files:\n",
        "      no = no + 1\n",
        "      src_path = os.path.join(load_path, file)\n",
        "      dest_path = os.path.join(copy_dest, file)\n",
        "      shutil.copy(src_path, dest_path)\n",
        "    os.chdir(\"/content\")\n",
        "    image_files = [file for file in os.listdir() if file.endswith('.png') or file.endswith('.jpg')]\n",
        "\n",
        "  no=0\n",
        "  for file in image_files:\n",
        "    no = no + 1\n",
        "    if rename != \"\":\n",
        "      file_name, file_extension = os.path.splitext(file)\n",
        "      new_name =  rename+\"-\"+str(no)+file_extension\n",
        "      os.rename(file, os.path.join(os.path.dirname(file), new_name))\n",
        "\n",
        "if load_type ==  \"PDF\":\n",
        "  pdf_file_name =\"\"\n",
        "  base_file_name =\"\"\n",
        "\n",
        "  if load_from == \"Local Computer\":\n",
        "    result = files.upload()\n",
        "    pdf_file_name = list(result.keys())[0]\n",
        "    base_file_name = os.path.splitext(pdf_file_name)[0]\n",
        "\n",
        "  if load_from == \"Google Drive\":\n",
        "    if not os.path.exists(load_path):\n",
        "      print(\"Error:load_path is invalid\")\n",
        "      raise SystemExit\n",
        "    copy_dest = \"/content\"  # コピー先のディレクトリパスを指定してください\n",
        "    pdf_file_name = os.path.basename(load_path)\n",
        "    base_file_name = os.path.splitext(pdf_file_name)[0]\n",
        "    output_file_name = base_file_name\n",
        "    dest_path = os.path.join(copy_dest, pdf_file_name)\n",
        "    shutil.copy(load_path, dest_path)\n",
        "\n",
        "  !apt-get install -y poppler-utils\n",
        "\n",
        "  output_name = base_file_name if rename == \"\" else rename;\n",
        "\n",
        "  if max_width == 'Unlimited':\n",
        "    !pdftoppm -png \"$pdf_file_name\" \"$output_name\"\n",
        "  else:\n",
        "    !pdftoppm -scale-to $max_width -png \"$pdf_file_name\"  \"$output_name\"\n",
        "\n"
      ],
      "metadata": {
        "id": "ktebIBsny-Ki",
        "cellView": "form"
      },
      "execution_count": null,
      "outputs": []
    },
    {
      "cell_type": "code",
      "execution_count": null,
      "metadata": {
        "id": "QcHPwJuNLaJP",
        "cellView": "form"
      },
      "outputs": [],
      "source": [
        "#@title [2]JSONファイルへの変換 / Converting to JSON file\n",
        "%cd  /content\n",
        "\n",
        "!sudo apt-get install imagemagick\n",
        "!pip install wand\n",
        "\n",
        "import os, sys\n",
        "from wand.image import Image\n",
        "import datetime\n",
        "import base64\n",
        "import json\n",
        "import re\n",
        "\n",
        "if 'max_width' not in locals():\n",
        "    max_width = \"1024\"\n",
        "if 'rename' not in locals():\n",
        "    rename = \"Image\"\n",
        "if 'renumber' not in locals():\n",
        "    renumber = \"on\"\n",
        "\n",
        "no = 0\n",
        "images = []\n",
        "files = os.listdir(\"./\")\n",
        "def extract_number(file_name):\n",
        "    match = re.search(r\"\\d+$\", os.path.splitext(file_name)[0])\n",
        "    return int(match.group()) if match else 0\n",
        "\n",
        "sorted_files = sorted(files, key=extract_number)\n",
        "for file_name in sorted_files:\n",
        "    if file_name.endswith(\".png\") or file_name.endswith(\".jpg\"):\n",
        "      im = Image(filename=file_name)\n",
        "\n",
        "      if max_width != \"Unlimited\":\n",
        "        if im.width > int(max_width):\n",
        "          target_width = int(max_width)\n",
        "          target_height = int(im.height * (target_width / im.width))\n",
        "          im.resize(target_width, target_height)\n",
        "\n",
        "      im.flip()\n",
        "      im.convert(\"RGBA\")\n",
        "      im.options['dds:mipmaps'] = \"0\"\n",
        "      im.compression = \"dxt1\"\n",
        "      im.format = 'dds'\n",
        "      b64_txt = base64.b64encode(im.make_blob()[128:])\n",
        "\n",
        "      type_str = \"10\" if im.compression == \"dxt1\" else \"10\" # type DXT1 10 DXT5 10\n",
        "\n",
        "      if renumber == \"off\":\n",
        "        match = re.search(r\"\\d+$\", os.path.splitext(file_name)[0])\n",
        "        no = int(match.group()) if match else no + 1\n",
        "        no = 200 if no > 200 else 1 if no < 1 else no\n",
        "      else:\n",
        "         no = no + 1\n",
        "\n",
        "      image_dict = {\"no\":str(no),\"name\":os.path.splitext(file_name)[0],\"type\":type_str,\"width\":str(im.width),\"height\":str( im.height),\"base64\":b64_txt.decode('utf-8')};\n",
        "      images.append(image_dict)\n",
        "\n",
        "dict= {\"version\":\"001\",\"images\":images}\n",
        "\n",
        "# output\n",
        "current_datetime = datetime.datetime.now()\n",
        "formatted_datetime = current_datetime.strftime(\"%Y%m%d_%H%M%S\")\n",
        "\n",
        "if 'output_file_name' not in locals():\n",
        "    output_file_name  = formatted_datetime\n",
        "\n",
        "json_file_name = output_file_name + '.json'\n",
        "with open(json_file_name, \"w\") as outputFile:\n",
        "  json.dump(dict, outputFile, indent=2 )"
      ]
    },
    {
      "cell_type": "code",
      "source": [
        "#@title [3]ファイルのダウンロード / Downloading the file\n",
        "from google.colab import files\n",
        "\n",
        "files.download(json_file_name)"
      ],
      "metadata": {
        "cellView": "form",
        "id": "-jnRUK-_-wdN"
      },
      "execution_count": null,
      "outputs": []
    }
  ]
}